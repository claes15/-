{
 "cells": [
  {
   "cell_type": "code",
   "execution_count": 1,
   "metadata": {},
   "outputs": [],
   "source": [
    "import requests\n",
    "from bs4 import BeautifulSoup as bs\n",
    "import pandas as pd\n",
    "import numpy as np\n",
    "import re\n",
    "import time"
   ]
  },
  {
   "cell_type": "code",
   "execution_count": 2,
   "metadata": {},
   "outputs": [],
   "source": [
    "def akbo_crawler():\n",
    "    df=pd.DataFrame()\n",
    "    for i in range(1, 101):\n",
    "        ajax_url ='http://www.akbobada.com/ajaxPartgList.html?pageIndex={}&order1=&order2=&order3=&catCode=02&groupCode=12&searchText='\n",
    "        r_ajax = requests.get(ajax_url.format(i))\n",
    "        r_ajax.text[1:-1]\n",
    "        json_result = r_ajax.json()\n",
    "        df=df.append(pd.DataFrame(json_result))\n",
    "    df=df.set_index('AKBO_ID')\n",
    "\n",
    "    df['파트']=''\n",
    "    df['설명']=''\n",
    "    df['key(조)']=''\n",
    "    df['페이지']=''\n",
    "\n",
    "    del df['ALBUM_ID']\n",
    "    del df['PART_CLASS_DISP']\n",
    "    del df['ak_lyric']\n",
    "    del df['pageCounts']\n",
    "    del df['sample_path']\n",
    "\n",
    "    mylist=df.index.values\n",
    "\n",
    "    for n in range(len(mylist)):\n",
    "        url='http://www.akbobada.com/musicDetail.html?musicID={}&p=1'\n",
    "        r=requests.get(url.format(mylist[n]))\n",
    "        r.text\n",
    "        soup=bs(r.text, 'lxml')\n",
    "        list2=soup.findAll('tr')\n",
    "        k=0    \n",
    "        while True:\n",
    "\n",
    "            if len(soup.findAll('tr')[k].findAll('td')) !=0 and '피아노' in re.sub('\\s+', '', [value.text for value in soup.findAll('tr')[k].findAll('td')][0]):\n",
    "                list1=[]\n",
    "                for a in range(len([value.text for value in soup.findAll('tr')[k].findAll('td')])):\n",
    "                    list1.append(re.sub('\\s+', '', [value.text for value in soup.findAll('tr')[k].findAll('td')][a]))\n",
    "\n",
    "                df.at[mylist[n],'파트']=list1[0]\n",
    "                df.at[mylist[n],'설명']=list1[1]\n",
    "                df.at[mylist[n],'key(조)']=list1[2]\n",
    "                df.at[mylist[n],'페이지']=list1[3]\n",
    "                break\n",
    "            else:\n",
    "                k=k+1\n",
    "    \n",
    "    df.to_csv('akbo.csv')\n"
   ]
  },
  {
   "cell_type": "code",
   "execution_count": 4,
   "metadata": {},
   "outputs": [
    {
     "name": "stdout",
     "output_type": "stream",
     "text": [
      "--- 874.9229295253754 seconds ---\n"
     ]
    }
   ],
   "source": [
    "start_time = time.time()\n",
    "akbo_crawler()\n",
    "print(\"--- %s seconds ---\" % (time.time() - start_time))"
   ]
  },
  {
   "cell_type": "code",
   "execution_count": null,
   "metadata": {},
   "outputs": [],
   "source": []
  }
 ],
 "metadata": {
  "kernelspec": {
   "display_name": "Python 3",
   "language": "python",
   "name": "python3"
  },
  "language_info": {
   "codemirror_mode": {
    "name": "ipython",
    "version": 3
   },
   "file_extension": ".py",
   "mimetype": "text/x-python",
   "name": "python",
   "nbconvert_exporter": "python",
   "pygments_lexer": "ipython3",
   "version": "3.6.3"
  }
 },
 "nbformat": 4,
 "nbformat_minor": 2
}
